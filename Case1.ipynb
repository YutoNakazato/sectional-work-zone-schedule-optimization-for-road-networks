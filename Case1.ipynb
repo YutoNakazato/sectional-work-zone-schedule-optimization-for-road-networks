{
 "cells": [
  {
   "cell_type": "markdown",
   "metadata": {},
   "source": [
    "# Ipynb file for Case 1 Nguyen road network"
   ]
  },
  {
   "cell_type": "markdown",
   "metadata": {},
   "source": [
    "# Inputs change by case\n",
    "Set input variables for each cases. \\\n",
    "*For details of each input, please check the paper."
   ]
  },
  {
   "cell_type": "code",
   "execution_count": 1,
   "metadata": {},
   "outputs": [],
   "source": [
    "#Maximum number of continuous work zones per day: M. \n",
    " #Case 1-a:100000(a number almost infinity). Case 1-b:20. Case 1-c:5.\n",
    "maxmachinenum=20\n",
    "\n",
    "#User cost weight. \n",
    " #Case 1-a,1-b,1-c:1. Case 1-bwf=0:1. Case 1-bU=0:0.\n",
    "ucrate=1\n",
    "\n",
    "#Work zone cost weight\n",
    " #Case 1-a,1-b,1-c:1. Case 1-bwf=0:0. Case 1-bU=0:1.\n",
    "wcrate=1\n",
    "\n",
    "#Probability each section of the road network require repair\n",
    "repprob=0.05"
   ]
  },
  {
   "attachments": {},
   "cell_type": "markdown",
   "metadata": {},
   "source": [
    "# Step 0: Preparation\n",
    "Import modules"
   ]
  },
  {
   "cell_type": "code",
   "execution_count": 2,
   "metadata": {},
   "outputs": [],
   "source": [
    "import numpy as np\n",
    "import time\n",
    "import gurobipy as grb\n",
    "from itertools import product\n",
    "import itertools\n",
    "import numpy as np\n",
    "import random"
   ]
  },
  {
   "cell_type": "markdown",
   "metadata": {},
   "source": [
    "Fixed inputs for Nguyen network"
   ]
  },
  {
   "cell_type": "code",
   "execution_count": 3,
   "metadata": {},
   "outputs": [],
   "source": [
    "#Set of the nodes\n",
    "nodes=np.sort([1, 2, 3, 4, 5, 6, 7, 8, 9, 10, 11, 12, 13])\n",
    "\n",
    "\n",
    "#Set of the links\n",
    "links_data_tuple=((1,5),(1,12),(4,5),(4,9),(5,6),(5,9),(6,7),(6,10),(7,8),(7,11),(8,2),(9,10),(9,13),(10,11),(11,2),(11,3),(12,6),(12,8),(13,3))\n",
    "\n",
    "#Ratio of the traffic demand to the original data\n",
    "odsize=0.8\n",
    "\n",
    "#Traffic demand per day in the entire network\n",
    "odmat=[[1,2,400*odsize],[1,3,800*odsize],[4,2,600*odsize],[4,3,200*odsize]]\n",
    "\n",
    "#Traffic capacity of each link\n",
    "capacity_data=[800,400,200,800,350,400,800,250,250,300,550,550,600,700,500,300,200,400,600]\n",
    "\n",
    "#Mile of each link\n",
    "cost_data_array=[7,9,9,12,3,9,5,13,5,9,9,10,9,6,9,8,7,14,11]\n",
    "\n",
    "#Number of days in the plan\n",
    "timespan=365\n",
    "\n",
    "#Fixed work zone cost\n",
    "mcucost=500\n",
    "\n",
    "#Variable work zone cost\n",
    "wzucost=100\n",
    "\n",
    "#Traffic capacity ratio in the work zone\n",
    "Brate=0.5\n",
    "\n",
    "#Detour route cost\n",
    "dummy_cost=300\n"
   ]
  },
  {
   "cell_type": "code",
   "execution_count": 4,
   "metadata": {},
   "outputs": [],
   "source": [
    "#Modification of type of the inputs\n",
    "links_data_array = np.array(links_data_tuple)\n",
    "\n",
    "nodes = np.sort(np.unique(links_data_array.flatten()))\n",
    "\n",
    "cost_dict=dict(zip(links_data_tuple,cost_data_array))\n",
    "\n",
    "capacity_dict=dict(zip(links_data_tuple,capacity_data))\n",
    "\n",
    "od_dict={(1,2):400*odsize,(1,3):800*odsize,(4,2):600*odsize,(4,3):200*odsize}"
   ]
  },
  {
   "cell_type": "markdown",
   "metadata": {},
   "source": [
    "Coding of supportive functions"
   ]
  },
  {
   "cell_type": "code",
   "execution_count": 5,
   "metadata": {},
   "outputs": [],
   "source": [
    "def convert_to_base(decimal_number, base):\n",
    "    DIGITS = '0123456789abcdef'\n",
    "    remainder_stack = []\n",
    "\n",
    "    while decimal_number > 0:\n",
    "        remainder = decimal_number % base\n",
    "        remainder_stack.append(remainder)\n",
    "        decimal_number = decimal_number // base\n",
    "\n",
    "    new_digits = []\n",
    "    while remainder_stack:\n",
    "        new_digits.append(DIGITS[remainder_stack.pop()])\n",
    "\n",
    "    return ''.join(new_digits)\n",
    "def de_to_base(de,base,num):\n",
    "    de2=convert_to_base(de, base)\n",
    "    otpt=np.zeros(num, dtype=int)\n",
    "    i=-1\n",
    "    for x in de2:\n",
    "        otpt[i]=otpt[i]+int(de2[i])\n",
    "        i=i-1\n",
    "    return otpt\n",
    "\n",
    "def base_to_de(X,n):\n",
    "    out = 0\n",
    "    for i in range(len(X)):\n",
    "        out += int(X[-i-1])*(n**(i))\n",
    "    return out\n",
    "\n",
    "def list_to_tuple(_list):\n",
    "    t = ()\n",
    "    for e in _list:\n",
    "        if isinstance(e,list):\n",
    "            t += (list_to_tuple(e),)\n",
    "        else:\n",
    "            t += (e,)\n",
    "    return t\n",
    "\n",
    "def odmatrix(nodes,node_od,sizerate): \n",
    "    odmat=np.zeros(3,'int')\n",
    "    for i in nodes: \n",
    "        for j in nodes: \n",
    "            if node_od[i][j]>0: \n",
    "                odtmp=np.zeros(3,'int')\n",
    "                odtmp[0]=i \n",
    "                odtmp[1]=j \n",
    "                odtmp[2]=node_od[i][j]*sizerate\n",
    "                odmat=np.vstack([odmat,odtmp])\n",
    "    odmat=np.delete(odmat,0,0)\n",
    "    return odmat \n",
    "\n",
    "def makeod_dict(nodes,node_od,sizerate):\n",
    "    odpairdict=()\n",
    "    odarray=[]\n",
    "    for i in node_od:\n",
    "        for j in node_od[i]:\n",
    "            odpairdict=odpairdict+((i,j),)\n",
    "            odarray.append(node_od[i][j])\n",
    "    od_dict=dict(zip(odpairdict,odarray))\n",
    "    return od_dict\n",
    "\n",
    "def noise(prob):\n",
    "    return 1 if random.random() <= prob else 0\n",
    "\n",
    "def random_rep_id(linklength,repprob,seed=21,secnumperlink=1609/100):\n",
    "    random.seed(seed)\n",
    "    linksize=round(linklength*secnumperlink)\n",
    "    randomid_link=[]\n",
    "    for i in range(linksize):\n",
    "            randomid_link.append(noise(repprob))\n",
    "    return randomid_link"
   ]
  },
  {
   "attachments": {},
   "cell_type": "markdown",
   "metadata": {},
   "source": [
    "# Step 1: Lower level: Section-unit link-level Pareto frontier\n"
   ]
  },
  {
   "cell_type": "code",
   "execution_count": 6,
   "metadata": {},
   "outputs": [],
   "source": [
    "#Function for calculating optimal 1 day work zone schedule with constraints of maximum number of continuous work zones per day.\n",
    "def linkrepplans(repid,machinecost=1000, workzonecost=100,maxworkzonelength=10,maxmachinenum=100):\n",
    "    repplangrbm=()\n",
    "    with grb.Env(empty=True) as env:\n",
    "        env.setParam('OutputFlag', 0)\n",
    "        env.start()\n",
    "        with grb.Model(env=env) as repplangrbm:\n",
    "            linksize=len(repid)\n",
    "            link_machineid={}\n",
    "            if maxmachinenum>sum(repid):\n",
    "                maxmachinenum=sum(repid)\n",
    "            link_machineid=repplangrbm.addVars(linksize,vtype=grb.GRB.INTEGER,lb=0,ub=maxmachinenum)\n",
    "            workzone01={}\n",
    "\n",
    "            workzone01=repplangrbm.addVars(linksize,vtype=grb.GRB.BINARY)\n",
    "\n",
    "            repplangrbm.update()\n",
    "\n",
    "            machineidincrease=repplangrbm.addConstrs( link_machineid[i+1]>= link_machineid[i] for i in range(linksize-1))\n",
    "            machineworkzoneconst=repplangrbm.addConstrs((workzone01[i+1]-workzone01[i])*(link_machineid[i+1]-link_machineid[i]-0.5)>=0 for i in range(linksize-1))\n",
    "            workzonelengthconst=repplangrbm.addConstrs(repid[i+maxworkzonelength]*(link_machineid[i+maxworkzonelength]-link_machineid[i]-1)>=0   for i in range(linksize-maxworkzonelength))\n",
    "            workzone01const=repplangrbm.addConstrs( repid[i]<= workzone01[i] for i in range(linksize))\n",
    "            machine01const=repplangrbm.addConstrs( workzone01[i]<= link_machineid[i] for i in range(linksize))\n",
    "\n",
    "            repplangrbm.setObjective(grb.quicksum(workzone01[i] for i in range(linksize))*workzonecost,grb.GRB.MINIMIZE)\n",
    "            repplangrbm.update()\n",
    "            repplangrbm.optimize()\n",
    "            repplangrbm.status\n",
    "            \n",
    "            link_machineidopt=[]\n",
    "            workzonenum=0\n",
    "            try:\n",
    "                for i in range(linksize):\n",
    "                    link_machineidopt.append(link_machineid[i].X)\n",
    "                    workzonenum=workzonenum+workzone01[i].X\n",
    "                repidans=[workzone01[i].X for i in range(linksize)]\n",
    "            except:\n",
    "                workzonenum=np.inf\n",
    "                repidans=np.inf\n",
    "            return workzonenum, repidans\n",
    "            \n",
    "        \n"
   ]
  },
  {
   "cell_type": "code",
   "execution_count": 7,
   "metadata": {},
   "outputs": [],
   "source": [
    "#Function for calculate Pareto frontier of each link.\n",
    "#   For each link, first randomly generate repair pattern,\n",
    "#   then calculate the optimal 1 day work zone schedule while decreasing the maximum number of continuous work zones per day\n",
    "def alllinksparato(cost_data,maxmachineperday=100,maxwznum=10,repprob=0.2,seedstart=0):\n",
    "    linksnum=len(cost_data)\n",
    "    alllinksparatocost=np.zeros((linksnum,maxmachineperday))\n",
    "    allrepid=[]\n",
    "    allworkzoneid=[[0 for i in range(maxmachineperday)] for j in range(linksnum)]\n",
    "    for linkid in range(linksnum):\n",
    "        linkrepid=random_rep_id(cost_data[linkid],repprob,seed=linkid+seedstart)\n",
    "        allrepid.append(linkrepid)\n",
    "        for machinenum in range(maxmachineperday):\n",
    "            try:\n",
    "                alllinksparatocost[linkid][machinenum], allworkzoneid[linkid][machinenum]=linkrepplans(linkrepid,machinecost=1000, workzonecost=100,maxworkzonelength=maxwznum,maxmachinenum=machinenum)\n",
    "            except:\n",
    "                alllinksparatocost[linkid][machinenum], allworkzoneid[linkid][machinenum]=np.inf,np.inf\n",
    "    return  alllinksparatocost, allrepid, allworkzoneid\n"
   ]
  },
  {
   "cell_type": "code",
   "execution_count": 8,
   "metadata": {},
   "outputs": [],
   "source": [
    "#Calculation of Pareto frontier of each link\n",
    "wzformn, allrepidmn, allworkzoneidmn=alllinksparato(cost_data_array,100,10,repprob)\n"
   ]
  },
  {
   "cell_type": "code",
   "execution_count": 9,
   "metadata": {},
   "outputs": [],
   "source": [
    "#Pareto frontiers into boardlist for the next step\n",
    "maxmachineperday=100\n",
    "boardlist=[]\n",
    "for linkid in range(len(cost_data_array)):\n",
    "    boardlinklist=[]\n",
    "    tmpwznm=1000000\n",
    "    for j in range(maxmachineperday):\n",
    "            if wzformn[linkid][j]<=100000 and wzformn[linkid][j]<tmpwznm:\n",
    "                boardlinklist.append([j,round(wzformn[linkid][j])])\n",
    "                tmpwznm=wzformn[linkid][j]\n",
    "    boardlist.append(boardlinklist)    "
   ]
  },
  {
   "attachments": {},
   "cell_type": "markdown",
   "metadata": {},
   "source": [
    "# Step 2: Upper level: Link-unit network-level optimal work zone assignment"
   ]
  },
  {
   "cell_type": "markdown",
   "metadata": {},
   "source": [
    "Define Gurobi Model for upper level"
   ]
  },
  {
   "cell_type": "code",
   "execution_count": 10,
   "metadata": {},
   "outputs": [
    {
     "name": "stdout",
     "output_type": "stream",
     "text": [
      "Set parameter Username\n",
      "Academic license - for non-commercial use only - expires 2025-04-10\n",
      "Set parameter MIPGap to value 0.01\n",
      "Set parameter MIPFocus to value 3\n",
      "Gurobi Optimizer version 11.0.1 build v11.0.1rc0 (win64 - Windows 11.0 (22631.2))\n",
      "\n",
      "CPU model: Intel(R) Core(TM) i9-9980XE CPU @ 3.00GHz, instruction set [SSE2|AVX|AVX2|AVX512]\n",
      "Thread count: 18 physical cores, 36 logical processors, using up to 18 threads\n",
      "\n",
      "Optimize a model with 2844 rows, 3626 columns and 10169 nonzeros\n",
      "Model fingerprint: 0xa7b24f0d\n",
      "Variable types: 2400 continuous, 1226 integer (618 binary)\n",
      "Coefficient statistics:\n",
      "  Matrix range     [1e+00, 4e+02]\n",
      "  Objective range  [3e+00, 3e+03]\n",
      "  Bounds range     [1e+00, 1e+03]\n",
      "  RHS range        [1e+00, 8e+02]\n",
      "Found heuristic solution: objective 1.440771e+08\n",
      "Presolve removed 1275 rows and 1577 columns\n",
      "Presolve time: 0.01s\n",
      "Presolved: 1569 rows, 2049 columns, 6793 nonzeros\n",
      "Variable types: 900 continuous, 1149 integer (599 binary)\n",
      "Found heuristic solution: objective 1.440760e+08\n",
      "Root relaxation presolve removed 540 rows and 540 columns\n",
      "Root relaxation presolved: 1029 rows, 1509 columns, 5713 nonzeros\n",
      "\n",
      "Extra simplex iterations after uncrush: 8\n",
      "\n",
      "Use crossover to convert LP symmetric solution to basic solution...\n",
      "\n",
      "Root relaxation: objective 1.713232e+06, 725 iterations, 0.01 seconds (0.01 work units)\n",
      "\n",
      "    Nodes    |    Current Node    |     Objective Bounds      |     Work\n",
      " Expl Unexpl |  Obj  Depth IntInf | Incumbent    BestBd   Gap | It/Node Time\n",
      "\n",
      "     0     0 1713232.27    0   55 1.4408e+08 1713232.27  98.8%     -    0s\n",
      "H    0     0                    8413290.0000 1713232.27  79.6%     -    0s\n",
      "H    0     0                    5316775.0000 1713232.27  67.8%     -    0s\n",
      "H    0     0                    4842290.0000 1713232.27  64.6%     -    0s\n",
      "H    0     0                    4664450.0000 1713330.00  63.3%     -    0s\n",
      "H    0     0                    4649635.0000 1713330.00  63.2%     -    0s\n",
      "H    0     0                    4249390.0000 1713330.00  59.7%     -    0s\n",
      "H    0     0                    3981780.0000 1713330.00  57.0%     -    0s\n",
      "     0     0 1713330.00    0   58 3981780.00 1713330.00  57.0%     -    0s\n",
      "     0     0 2187250.00    0   38 3981780.00 2187250.00  45.1%     -    0s\n",
      "     0     0 2187250.00    0   38 3981780.00 2187250.00  45.1%     -    0s\n",
      "     0     0 2187250.00    0   44 3981780.00 2187250.00  45.1%     -    0s\n",
      "H    0     0                    3789575.0000 2187250.00  42.3%     -    0s\n",
      "     0     0 2187250.00    0   51 3789575.00 2187250.00  42.3%     -    0s\n",
      "H    0     0                    3774840.0000 2187250.00  42.1%     -    0s\n",
      "H    0     0                    3700640.0000 2187250.00  40.9%     -    0s\n",
      "H    0     0                    3700020.0000 2187250.00  40.9%     -    0s\n",
      "H    0     0                    3699945.0000 2187250.00  40.9%     -    0s\n",
      "H    0     0                    3669715.0000 2187250.00  40.4%     -    0s\n",
      "H    0     0                    3611120.0000 2187250.00  39.4%     -    0s\n",
      "     0     0 2187250.00    0   45 3611120.00 2187250.00  39.4%     -    0s\n",
      "H    0     0                    3373090.0000 2187250.00  35.2%     -    0s\n",
      "     0     0 2226057.80    0   45 3373090.00 2226057.80  34.0%     -    0s\n",
      "     0     2 2226057.80    0   40 3373090.00 2226057.80  34.0%     -    0s\n",
      "H   44    42                    3077310.0000 2628332.57  14.6%   183    0s\n",
      "H   92    71                    3003235.0000 2735238.08  8.92%   219    1s\n",
      "H  150    87                    3003215.0000 2806633.32  6.55%   183    1s\n",
      "H  276   113                    3003165.0000 2925641.06  2.58%   128    1s\n",
      "*  531   258              14    2959070.0000 2945329.15  0.46%  81.7    1s\n",
      "*  587   253              22    2958985.0000 2945329.15  0.46%  75.1    1s\n",
      "\n",
      "Cutting planes:\n",
      "  Gomory: 243\n",
      "  Lift-and-project: 1\n",
      "  Cover: 6\n",
      "  Implied bound: 39\n",
      "  MIR: 557\n",
      "  Mixing: 2\n",
      "  StrongCG: 73\n",
      "  Flow cover: 961\n",
      "  Zero half: 14\n",
      "  RLT: 46\n",
      "  Relax-and-lift: 153\n",
      "\n",
      "Explored 598 nodes (49792 simplex iterations) in 1.65 seconds (1.35 work units)\n",
      "Thread count was 18 (of 36 available processors)\n",
      "\n",
      "Solution count 10: 2.95898e+06 2.95907e+06 3.00317e+06 ... 3.69994e+06\n",
      "\n",
      "Optimal solution found (tolerance 1.00e-02)\n",
      "Best objective 2.958985000000e+06, best bound 2.945329147727e+06, gap 0.4615%\n"
     ]
    },
    {
     "data": {
      "text/plain": [
       "2"
      ]
     },
     "execution_count": 10,
     "metadata": {},
     "output_type": "execute_result"
    }
   ],
   "source": [
    "timerange=range(timespan)\n",
    "grbm=()\n",
    "grbm=grb.Model()\n",
    "x={}\n",
    "y={}\n",
    "FlowRsv={}\n",
    "Cap={}\n",
    "close={}\n",
    "CloseCons={}\n",
    "RepairOnce={}\n",
    "cost_origin_dict=dict(zip(links_data_tuple,cost_data_array))\n",
    "flowtype_list=range(len(odmat))\n",
    "links_data2_array=links_data_array#\n",
    "links_data2_tuple=links_data_tuple#\n",
    "cost_data_array2_array=cost_data_array\n",
    "capacity_data2_array=capacity_dict\n",
    "detour_tuple=()\n",
    "detour_list=[[0,0],]\n",
    "detour_cost_array=[]\n",
    "for f in flowtype_list:\n",
    "    detour_tuple=detour_tuple+list_to_tuple([[odmat[f][0],odmat[f][1]]])\n",
    "    detour_list=np.row_stack((detour_list, odmat[f][:2]))\n",
    "    detour_cost_array=np.append( detour_cost_array,3000)\n",
    "detour_list=np.delete(detour_list,0,0)\n",
    "detour_dict=dict(zip(detour_tuple,detour_cost_array))\n",
    "outflow_dict=dict(zip([(i,f) for (i,f) in product(nodes,flowtype_list)],np.zeros(len(nodes)*len(flowtype_list))))\n",
    "count=0\n",
    "for f in flowtype_list:\n",
    "    onode=odmat[f][0]\n",
    "    dnode=odmat[f][1]\n",
    "    flow=odmat[f][2]\n",
    "    outflow_dict[(onode,f)]=-flow\n",
    "    outflow_dict[(dnode,f)]=flow\n",
    "ynwlist=list(itertools.product(links_data_tuple,np.array(flowtype_list),np.array(timerange)))\n",
    "ydetourlist=list(itertools.product(detour_tuple,np.array(timerange)))\n",
    "ynw=grbm.addVars(ynwlist,lb=0)\n",
    "ydet=grbm.addVars(ydetourlist,lb=0)\n",
    "xlist=list(itertools.product(links_data_tuple,np.array(timerange)))\n",
    " \n",
    "\n",
    "x01num=grbm.addVars(xlist, vtype=\"B\")\n",
    "\n",
    "xnum=grbm.addVars(xlist, vtype=\"I\", lb=0,ub=max(maxmachinenum,100))\n",
    "\n",
    "xtlist=list(links_data_tuple)\n",
    "xtnum=grbm.addVars(xtlist, vtype=\"I\", lb=0,ub=max(maxmachinenum,100))\n",
    "\n",
    "wznum=grbm.addVars(xtlist, vtype=\"I\", lb=0,ub=max(maxmachinenum*10,1000))\n",
    "\n",
    "# Define detour routes on the network\n",
    "detour_indicator=dict(zip([(i,f) for (i,f) in product(nodes,flowtype_list)],np.zeros(len(nodes)*len(flowtype_list))))\n",
    "count=0\n",
    "for f in flowtype_list:\n",
    "    for i in nodes:\n",
    "        if detour_list[f][0]==i:\n",
    "            detour_indicator[(i,f)]=1\n",
    "        elif detour_list[f][1]==i:\n",
    "            detour_indicator[(i,f)]=-1\n",
    "\n",
    "#Decide od nodes for each traffic demands\n",
    "all_node_link_start_list=[]\n",
    "all_node_link_end_list=[]\n",
    "for n in nodes:\n",
    "    node_link_start_list=[]\n",
    "    node_link_end_list=[]\n",
    "    for (i,j) in links_data_array:\n",
    "        if i==n:\n",
    "            node_link_start_list.append([i,j])\n",
    "        elif j==n:\n",
    "            node_link_end_list.append([i,j])\n",
    "    all_node_link_start_list.append(list(node_link_start_list))\n",
    "    all_node_link_end_list.append(list(node_link_end_list))\n",
    "\n",
    "all_node_detour_start_list=[]\n",
    "all_node_detour_end_list=[]\n",
    "for n in nodes:\n",
    "    node_detour_start_list=[]\n",
    "    node_detour_end_list=[]\n",
    "    for (i,j) in detour_list:\n",
    "        if i==n:\n",
    "            node_detour_start_list.append([i,j])\n",
    "        elif j==n:\n",
    "            node_detour_end_list.append([i,j])\n",
    "    all_node_detour_start_list.append(list(node_detour_start_list))\n",
    "    all_node_detour_end_list.append(list(node_detour_end_list))\n",
    "\n",
    "#Constraints\n",
    "FlowRsv=grbm.addConstrs(grb.quicksum(ynw[(n,m),f,t]for (n,m) in all_node_link_start_list[i])\n",
    "+ydet[(detour_list[f][0],detour_list[f][1]),t]*detour_indicator[(i+1,f)] \n",
    "- grb.quicksum(ynw[(n,m),f,t]for (n,m) in all_node_link_end_list[i]) \n",
    "== -outflow_dict[nodes[i],f] for (f,i,t) in product(flowtype_list, range(len(nodes)),timerange))   \n",
    "x01consts=grbm.addConstrs(x01num[(i,j),t]*maxmachinenum>=xnum[(i,j),t] for ((i,j),t) in product(links_data_array,timerange))\n",
    "Cap=grbm.addConstrs(grb.quicksum(ynw[(i,j),f,t] for f in flowtype_list) <= capacity_dict[i,j]*(1-Brate*x01num[(i,j),t]) for ((i,j),t) in product(links_data_array,timerange))\n",
    "Xnumconst=grbm.addConstrs(xtnum[i,j]==grb.quicksum(xnum[(i,j),t] for t in timerange)for(i,j) in links_data_array  )\n",
    "mnumconst=grbm.addConstrs(grb.quicksum(xnum[(i,j),t] for (i,j) in links_data_array)<=maxmachinenum for t in timerange )\n",
    "\n",
    "#Add Pareto frontier into the upper level problem\n",
    "xtnumind={}\n",
    "for i in range(len(cost_data_array )):\n",
    "    (m,n)=links_data_tuple[i]\n",
    "    grbm.addConstr(xtnum[m,n]>=boardlist[i][0][0])\n",
    "    grbm.addConstr(xtnum[m,n]<=boardlist[i][-1][0])\n",
    "    xtnumind[i]=grbm.addVars(len(boardlist[i]), vtype=\"B\")\n",
    "    grbm.addConstr(grb.quicksum(xtnumind[i][j] for j in range(len(boardlist[i])))==1)\n",
    "    grbm.addConstr(grb.quicksum(xtnumind[i][j]*boardlist[i][j][1] for j in range(len(boardlist[i])))==wznum[m,n])\n",
    "    grbm.addConstr(grb.quicksum(xtnumind[i][j]*boardlist[i][j][0] for j in range(len(boardlist[i])))==xtnum[m,n])\n",
    "    \n",
    "#Set of objective function\n",
    "grbm.setObjective(\n",
    "ucrate*grb.quicksum(cost_origin_dict[n,m]*ynw[(n,m),f,t] for((n,m),f,t) in product(links_data_array,flowtype_list,timerange))\n",
    "+ucrate*grb.quicksum(detour_dict[n,m]*ydet[(n,m),t] for((n,m),t) in product(detour_list,timerange))\n",
    "+wcrate*grb.quicksum(xtnum[n,m]*mcucost\n",
    "+wznum[n,m]*wzucost  \n",
    "for (n,m) in links_data_array)\n",
    ")    \n",
    "\n",
    "grbm.update()\n",
    "grbm.setParam('MIPGAP',0.01)\n",
    "grbm.setParam('MIPfocus',3)\n",
    "grbm.optimize()\n",
    "grbm.status"
   ]
  },
  {
   "cell_type": "code",
   "execution_count": 11,
   "metadata": {},
   "outputs": [
    {
     "data": {
      "text/plain": [
       "107.0"
      ]
     },
     "execution_count": 11,
     "metadata": {},
     "output_type": "execute_result"
    }
   ],
   "source": [
    "sum(xtnum[n,m].X for (n,m) in links_data_array)"
   ]
  },
  {
   "cell_type": "code",
   "execution_count": 12,
   "metadata": {},
   "outputs": [
    {
     "data": {
      "text/plain": [
       "217.0"
      ]
     },
     "execution_count": 12,
     "metadata": {},
     "output_type": "execute_result"
    }
   ],
   "source": [
    "sum(wznum[n,m].X for (n,m) in links_data_array)"
   ]
  },
  {
   "cell_type": "code",
   "execution_count": 13,
   "metadata": {},
   "outputs": [
    {
     "data": {
      "text/plain": [
       "75200.0"
      ]
     },
     "execution_count": 13,
     "metadata": {},
     "output_type": "execute_result"
    }
   ],
   "source": [
    "sum(xtnum[n,m].X*500+wznum[n,m].X*100  for (n,m) in links_data_array)"
   ]
  },
  {
   "cell_type": "code",
   "execution_count": 14,
   "metadata": {},
   "outputs": [
    {
     "data": {
      "text/plain": [
       "2958985.0"
      ]
     },
     "execution_count": 14,
     "metadata": {},
     "output_type": "execute_result"
    }
   ],
   "source": [
    "sum(cost_origin_dict[n,m]*ynw[(n,m),f,t].X for((n,m),f,t) in product(links_data_array,flowtype_list,timerange))+sum(detour_dict[n,m]*ydet[(n,m),t].X for((n,m),t) in product(detour_list,timerange))+sum(xtnum[n,m].X*500+wznum[n,m].X*100  for (n,m) in links_data_array)"
   ]
  },
  {
   "cell_type": "code",
   "execution_count": 15,
   "metadata": {},
   "outputs": [
    {
     "name": "stdout",
     "output_type": "stream",
     "text": [
      "{(1, 5, 0): 2.0, (1, 5, 1): 0.0, (1, 5, 2): 0.0, (1, 5, 3): 0.0, (1, 5, 4): 0.0, (1, 5, 5): 0.0, (1, 5, 6): 0.0, (1, 5, 7): 0.0, (1, 5, 8): 0.0, (1, 5, 9): 0.0, (1, 5, 10): 0.0, (1, 5, 11): 0.0, (1, 5, 12): 0.0, (1, 5, 13): 0.0, (1, 5, 14): 0.0, (1, 5, 15): 0.0, (1, 5, 16): 0.0, (1, 5, 17): 0.0, (1, 5, 18): 0.0, (1, 5, 19): 0.0, (1, 5, 20): 0.0, (1, 5, 21): 0.0, (1, 5, 22): 0.0, (1, 5, 23): 0.0, (1, 5, 24): 0.0, (1, 5, 25): 0.0, (1, 5, 26): 0.0, (1, 5, 27): 0.0, (1, 5, 28): 0.0, (1, 5, 29): 0.0, (1, 12, 0): 0.0, (1, 12, 1): 0.0, (1, 12, 2): 0.0, (1, 12, 3): 0.0, (1, 12, 4): 0.0, (1, 12, 5): 0.0, (1, 12, 6): 0.0, (1, 12, 7): 0.0, (1, 12, 8): 0.0, (1, 12, 9): 0.0, (1, 12, 10): 0.0, (1, 12, 11): 0.0, (1, 12, 12): 0.0, (1, 12, 13): 0.0, (1, 12, 14): 0.0, (1, 12, 15): 0.0, (1, 12, 16): 0.0, (1, 12, 17): 0.0, (1, 12, 18): 0.0, (1, 12, 19): 0.0, (1, 12, 20): 0.0, (1, 12, 21): 0.0, (1, 12, 22): 0.0, (1, 12, 23): 0.0, (1, 12, 24): 0.0, (1, 12, 25): 0.0, (1, 12, 26): 0.0, (1, 12, 27): 9.0, (1, 12, 28): 0.0, (1, 12, 29): 0.0, (4, 5, 0): 0.0, (4, 5, 1): 0.0, (4, 5, 2): 0.0, (4, 5, 3): 0.0, (4, 5, 4): 0.0, (4, 5, 5): 0.0, (4, 5, 6): 0.0, (4, 5, 7): 0.0, (4, 5, 8): 0.0, (4, 5, 9): 0.0, (4, 5, 10): 0.0, (4, 5, 11): 0.0, (4, 5, 12): 0.0, (4, 5, 13): 0.0, (4, 5, 14): 0.0, (4, 5, 15): 0.0, (4, 5, 16): 0.0, (4, 5, 17): 0.0, (4, 5, 18): 0.0, (4, 5, 19): 0.0, (4, 5, 20): 0.0, (4, 5, 21): 0.0, (4, 5, 22): 0.0, (4, 5, 23): 0.0, (4, 5, 24): 0.0, (4, 5, 25): 0.0, (4, 5, 26): 0.0, (4, 5, 27): 4.0, (4, 5, 28): 0.0, (4, 5, 29): 0.0, (4, 9, 0): 0.0, (4, 9, 1): 0.0, (4, 9, 2): 0.0, (4, 9, 3): 0.0, (4, 9, 4): 0.0, (4, 9, 5): 0.0, (4, 9, 6): 0.0, (4, 9, 7): 0.0, (4, 9, 8): 0.0, (4, 9, 9): 0.0, (4, 9, 10): 0.0, (4, 9, 11): 8.0, (4, 9, 12): 0.0, (4, 9, 13): 0.0, (4, 9, 14): 0.0, (4, 9, 15): 0.0, (4, 9, 16): 0.0, (4, 9, 17): 0.0, (4, 9, 18): 0.0, (4, 9, 19): 0.0, (4, 9, 20): 0.0, (4, 9, 21): 0.0, (4, 9, 22): 0.0, (4, 9, 23): 0.0, (4, 9, 24): 0.0, (4, 9, 25): 0.0, (4, 9, 26): 0.0, (4, 9, 27): 0.0, (4, 9, 28): 0.0, (4, 9, 29): 0.0, (5, 6, 0): 1.0, (5, 6, 1): 0.0, (5, 6, 2): 0.0, (5, 6, 3): 0.0, (5, 6, 4): 0.0, (5, 6, 5): 0.0, (5, 6, 6): 0.0, (5, 6, 7): 0.0, (5, 6, 8): 0.0, (5, 6, 9): 0.0, (5, 6, 10): 0.0, (5, 6, 11): 0.0, (5, 6, 12): 0.0, (5, 6, 13): 0.0, (5, 6, 14): 0.0, (5, 6, 15): 0.0, (5, 6, 16): 0.0, (5, 6, 17): 0.0, (5, 6, 18): 0.0, (5, 6, 19): 0.0, (5, 6, 20): 0.0, (5, 6, 21): 0.0, (5, 6, 22): 0.0, (5, 6, 23): 0.0, (5, 6, 24): 0.0, (5, 6, 25): 0.0, (5, 6, 26): 0.0, (5, 6, 27): 0.0, (5, 6, 28): 0.0, (5, 6, 29): 0.0, (5, 9, 0): 0.0, (5, 9, 1): 0.0, (5, 9, 2): 8.0, (5, 9, 3): 0.0, (5, 9, 4): 0.0, (5, 9, 5): 0.0, (5, 9, 6): 0.0, (5, 9, 7): 0.0, (5, 9, 8): 0.0, (5, 9, 9): 0.0, (5, 9, 10): 0.0, (5, 9, 11): 0.0, (5, 9, 12): 0.0, (5, 9, 13): 0.0, (5, 9, 14): 0.0, (5, 9, 15): 0.0, (5, 9, 16): 0.0, (5, 9, 17): 0.0, (5, 9, 18): 0.0, (5, 9, 19): 0.0, (5, 9, 20): 0.0, (5, 9, 21): 0.0, (5, 9, 22): 0.0, (5, 9, 23): 0.0, (5, 9, 24): 0.0, (5, 9, 25): 0.0, (5, 9, 26): 0.0, (5, 9, 27): 0.0, (5, 9, 28): 0.0, (5, 9, 29): 0.0, (6, 7, 0): 0.0, (6, 7, 1): 0.0, (6, 7, 2): 0.0, (6, 7, 3): 0.0, (6, 7, 4): 0.0, (6, 7, 5): 0.0, (6, 7, 6): 0.0, (6, 7, 7): 0.0, (6, 7, 8): 0.0, (6, 7, 9): 0.0, (6, 7, 10): 0.0, (6, 7, 11): 0.0, (6, 7, 12): 0.0, (6, 7, 13): 0.0, (6, 7, 14): 0.0, (6, 7, 15): 0.0, (6, 7, 16): 3.0, (6, 7, 17): 0.0, (6, 7, 18): 0.0, (6, 7, 19): 0.0, (6, 7, 20): 0.0, (6, 7, 21): 0.0, (6, 7, 22): 0.0, (6, 7, 23): 0.0, (6, 7, 24): 0.0, (6, 7, 25): 0.0, (6, 7, 26): 0.0, (6, 7, 27): 0.0, (6, 7, 28): 0.0, (6, 7, 29): 0.0, (6, 10, 0): 0.0, (6, 10, 1): 0.0, (6, 10, 2): 0.0, (6, 10, 3): 0.0, (6, 10, 4): 0.0, (6, 10, 5): 8.0, (6, 10, 6): 0.0, (6, 10, 7): 0.0, (6, 10, 8): 0.0, (6, 10, 9): 0.0, (6, 10, 10): 0.0, (6, 10, 11): 0.0, (6, 10, 12): 0.0, (6, 10, 13): 0.0, (6, 10, 14): 0.0, (6, 10, 15): 0.0, (6, 10, 16): 0.0, (6, 10, 17): 0.0, (6, 10, 18): 0.0, (6, 10, 19): 0.0, (6, 10, 20): 0.0, (6, 10, 21): 0.0, (6, 10, 22): 0.0, (6, 10, 23): 0.0, (6, 10, 24): 0.0, (6, 10, 25): 0.0, (6, 10, 26): 0.0, (6, 10, 27): 0.0, (6, 10, 28): 0.0, (6, 10, 29): 0.0, (7, 8, 0): 0.0, (7, 8, 1): 0.0, (7, 8, 2): 0.0, (7, 8, 3): 0.0, (7, 8, 4): 0.0, (7, 8, 5): 0.0, (7, 8, 6): 0.0, (7, 8, 7): 0.0, (7, 8, 8): 0.0, (7, 8, 9): 0.0, (7, 8, 10): 0.0, (7, 8, 11): 0.0, (7, 8, 12): 0.0, (7, 8, 13): 0.0, (7, 8, 14): 0.0, (7, 8, 15): 0.0, (7, 8, 16): 3.0, (7, 8, 17): 0.0, (7, 8, 18): 0.0, (7, 8, 19): 0.0, (7, 8, 20): 0.0, (7, 8, 21): 0.0, (7, 8, 22): 0.0, (7, 8, 23): 0.0, (7, 8, 24): 0.0, (7, 8, 25): 0.0, (7, 8, 26): 0.0, (7, 8, 27): 0.0, (7, 8, 28): 0.0, (7, 8, 29): 0.0, (7, 11, 0): 0.0, (7, 11, 1): 0.0, (7, 11, 2): 0.0, (7, 11, 3): 0.0, (7, 11, 4): 0.0, (7, 11, 5): 0.0, (7, 11, 6): 0.0, (7, 11, 7): 0.0, (7, 11, 8): 0.0, (7, 11, 9): 0.0, (7, 11, 10): 7.0, (7, 11, 11): 0.0, (7, 11, 12): 0.0, (7, 11, 13): 0.0, (7, 11, 14): 0.0, (7, 11, 15): 0.0, (7, 11, 16): 0.0, (7, 11, 17): 0.0, (7, 11, 18): 0.0, (7, 11, 19): 0.0, (7, 11, 20): 0.0, (7, 11, 21): 0.0, (7, 11, 22): 0.0, (7, 11, 23): 0.0, (7, 11, 24): 0.0, (7, 11, 25): 0.0, (7, 11, 26): 0.0, (7, 11, 27): 0.0, (7, 11, 28): 0.0, (7, 11, 29): 0.0, (8, 2, 0): 6.0, (8, 2, 1): 0.0, (8, 2, 2): 0.0, (8, 2, 3): 0.0, (8, 2, 4): 0.0, (8, 2, 5): 0.0, (8, 2, 6): 0.0, (8, 2, 7): 0.0, (8, 2, 8): 0.0, (8, 2, 9): 0.0, (8, 2, 10): 0.0, (8, 2, 11): 0.0, (8, 2, 12): 0.0, (8, 2, 13): 0.0, (8, 2, 14): 0.0, (8, 2, 15): 0.0, (8, 2, 16): 0.0, (8, 2, 17): 0.0, (8, 2, 18): 0.0, (8, 2, 19): 0.0, (8, 2, 20): 0.0, (8, 2, 21): 0.0, (8, 2, 22): 0.0, (8, 2, 23): 0.0, (8, 2, 24): 0.0, (8, 2, 25): 0.0, (8, 2, 26): 0.0, (8, 2, 27): 0.0, (8, 2, 28): 0.0, (8, 2, 29): 0.0, (9, 10, 0): 0.0, (9, 10, 1): 0.0, (9, 10, 2): 0.0, (9, 10, 3): 0.0, (9, 10, 4): 0.0, (9, 10, 5): 0.0, (9, 10, 6): 0.0, (9, 10, 7): 0.0, (9, 10, 8): 0.0, (9, 10, 9): 0.0, (9, 10, 10): 0.0, (9, 10, 11): 6.0, (9, 10, 12): 0.0, (9, 10, 13): 0.0, (9, 10, 14): 0.0, (9, 10, 15): 0.0, (9, 10, 16): 0.0, (9, 10, 17): 0.0, (9, 10, 18): 0.0, (9, 10, 19): 0.0, (9, 10, 20): 0.0, (9, 10, 21): 0.0, (9, 10, 22): 0.0, (9, 10, 23): 0.0, (9, 10, 24): 0.0, (9, 10, 25): 0.0, (9, 10, 26): 0.0, (9, 10, 27): 0.0, (9, 10, 28): 0.0, (9, 10, 29): 0.0, (9, 13, 0): 0.0, (9, 13, 1): 0.0, (9, 13, 2): 7.0, (9, 13, 3): 0.0, (9, 13, 4): 0.0, (9, 13, 5): 0.0, (9, 13, 6): 0.0, (9, 13, 7): 0.0, (9, 13, 8): 0.0, (9, 13, 9): 0.0, (9, 13, 10): 0.0, (9, 13, 11): 0.0, (9, 13, 12): 0.0, (9, 13, 13): 0.0, (9, 13, 14): 0.0, (9, 13, 15): 0.0, (9, 13, 16): 0.0, (9, 13, 17): 0.0, (9, 13, 18): 0.0, (9, 13, 19): 0.0, (9, 13, 20): 0.0, (9, 13, 21): 0.0, (9, 13, 22): 0.0, (9, 13, 23): 0.0, (9, 13, 24): 0.0, (9, 13, 25): 0.0, (9, 13, 26): 0.0, (9, 13, 27): 0.0, (9, 13, 28): 0.0, (9, 13, 29): 0.0, (10, 11, 0): 0.0, (10, 11, 1): 0.0, (10, 11, 2): 1.0, (10, 11, 3): 0.0, (10, 11, 4): 0.0, (10, 11, 5): 0.0, (10, 11, 6): 0.0, (10, 11, 7): 0.0, (10, 11, 8): 0.0, (10, 11, 9): 0.0, (10, 11, 10): 0.0, (10, 11, 11): 0.0, (10, 11, 12): 0.0, (10, 11, 13): 1.0, (10, 11, 14): 0.0, (10, 11, 15): 0.0, (10, 11, 16): 0.0, (10, 11, 17): 0.0, (10, 11, 18): 0.0, (10, 11, 19): 0.0, (10, 11, 20): 0.0, (10, 11, 21): 0.0, (10, 11, 22): 0.0, (10, 11, 23): 0.0, (10, 11, 24): 0.0, (10, 11, 25): 0.0, (10, 11, 26): 0.0, (10, 11, 27): 0.0, (10, 11, 28): 0.0, (10, 11, 29): 0.0, (11, 2, 0): 0.0, (11, 2, 1): 0.0, (11, 2, 2): 0.0, (11, 2, 3): 0.0, (11, 2, 4): 0.0, (11, 2, 5): 0.0, (11, 2, 6): 0.0, (11, 2, 7): 0.0, (11, 2, 8): 0.0, (11, 2, 9): 0.0, (11, 2, 10): 0.0, (11, 2, 11): 4.0, (11, 2, 12): 0.0, (11, 2, 13): 0.0, (11, 2, 14): 0.0, (11, 2, 15): 0.0, (11, 2, 16): 0.0, (11, 2, 17): 0.0, (11, 2, 18): 0.0, (11, 2, 19): 0.0, (11, 2, 20): 0.0, (11, 2, 21): 0.0, (11, 2, 22): 0.0, (11, 2, 23): 0.0, (11, 2, 24): 0.0, (11, 2, 25): 0.0, (11, 2, 26): 0.0, (11, 2, 27): 0.0, (11, 2, 28): 0.0, (11, 2, 29): 0.0, (11, 3, 0): 7.0, (11, 3, 1): 0.0, (11, 3, 2): 0.0, (11, 3, 3): 0.0, (11, 3, 4): 0.0, (11, 3, 5): 0.0, (11, 3, 6): 0.0, (11, 3, 7): 0.0, (11, 3, 8): 0.0, (11, 3, 9): 0.0, (11, 3, 10): 0.0, (11, 3, 11): 0.0, (11, 3, 12): 0.0, (11, 3, 13): 0.0, (11, 3, 14): 0.0, (11, 3, 15): 0.0, (11, 3, 16): 0.0, (11, 3, 17): 0.0, (11, 3, 18): 0.0, (11, 3, 19): 0.0, (11, 3, 20): 0.0, (11, 3, 21): 0.0, (11, 3, 22): 0.0, (11, 3, 23): 0.0, (11, 3, 24): 0.0, (11, 3, 25): 0.0, (11, 3, 26): 0.0, (11, 3, 27): 0.0, (11, 3, 28): 0.0, (11, 3, 29): 0.0, (12, 6, 0): 0.0, (12, 6, 1): 8.0, (12, 6, 2): 0.0, (12, 6, 3): 0.0, (12, 6, 4): 0.0, (12, 6, 5): 0.0, (12, 6, 6): 0.0, (12, 6, 7): 0.0, (12, 6, 8): 0.0, (12, 6, 9): 0.0, (12, 6, 10): 0.0, (12, 6, 11): 0.0, (12, 6, 12): 0.0, (12, 6, 13): 0.0, (12, 6, 14): 0.0, (12, 6, 15): 0.0, (12, 6, 16): 0.0, (12, 6, 17): 0.0, (12, 6, 18): 0.0, (12, 6, 19): 0.0, (12, 6, 20): 0.0, (12, 6, 21): 0.0, (12, 6, 22): 0.0, (12, 6, 23): 0.0, (12, 6, 24): 0.0, (12, 6, 25): 0.0, (12, 6, 26): 0.0, (12, 6, 27): 0.0, (12, 6, 28): 0.0, (12, 6, 29): 0.0, (12, 8, 0): 3.0, (12, 8, 1): 0.0, (12, 8, 2): 0.0, (12, 8, 3): 0.0, (12, 8, 4): 0.0, (12, 8, 5): 0.0, (12, 8, 6): 0.0, (12, 8, 7): 0.0, (12, 8, 8): 0.0, (12, 8, 9): 0.0, (12, 8, 10): 0.0, (12, 8, 11): 0.0, (12, 8, 12): 0.0, (12, 8, 13): 0.0, (12, 8, 14): 0.0, (12, 8, 15): 0.0, (12, 8, 16): 0.0, (12, 8, 17): 0.0, (12, 8, 18): 0.0, (12, 8, 19): 0.0, (12, 8, 20): 0.0, (12, 8, 21): 0.0, (12, 8, 22): 0.0, (12, 8, 23): 0.0, (12, 8, 24): 0.0, (12, 8, 25): 0.0, (12, 8, 26): 0.0, (12, 8, 27): 7.0, (12, 8, 28): 0.0, (12, 8, 29): 0.0, (13, 3, 0): 0.0, (13, 3, 1): 0.0, (13, 3, 2): 4.0, (13, 3, 3): 0.0, (13, 3, 4): 0.0, (13, 3, 5): 0.0, (13, 3, 6): 0.0, (13, 3, 7): 0.0, (13, 3, 8): 0.0, (13, 3, 9): 0.0, (13, 3, 10): 0.0, (13, 3, 11): 0.0, (13, 3, 12): 0.0, (13, 3, 13): 0.0, (13, 3, 14): 0.0, (13, 3, 15): 0.0, (13, 3, 16): 0.0, (13, 3, 17): 0.0, (13, 3, 18): 0.0, (13, 3, 19): 0.0, (13, 3, 20): 0.0, (13, 3, 21): 0.0, (13, 3, 22): 0.0, (13, 3, 23): 0.0, (13, 3, 24): 0.0, (13, 3, 25): 0.0, (13, 3, 26): 0.0, (13, 3, 27): 0.0, (13, 3, 28): 0.0, (13, 3, 29): 0.0}\n"
     ]
    }
   ],
   "source": [
    "otptx={(i,j,t):xnum[(i,j),t].X for ((i,j),t) in product(links_data_array,timerange)}\n",
    "print(otptx)"
   ]
  },
  {
   "attachments": {},
   "cell_type": "markdown",
   "metadata": {},
   "source": [
    "with rhot 222sec 1.98%"
   ]
  }
 ],
 "metadata": {
  "kernelspec": {
   "display_name": "Python 3",
   "language": "python",
   "name": "python3"
  },
  "language_info": {
   "codemirror_mode": {
    "name": "ipython",
    "version": 3
   },
   "file_extension": ".py",
   "mimetype": "text/x-python",
   "name": "python",
   "nbconvert_exporter": "python",
   "pygments_lexer": "ipython3",
   "version": "3.9.1"
  }
 },
 "nbformat": 4,
 "nbformat_minor": 4
}
